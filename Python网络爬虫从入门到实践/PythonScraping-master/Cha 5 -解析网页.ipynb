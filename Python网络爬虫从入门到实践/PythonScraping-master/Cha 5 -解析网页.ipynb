{
 "cells": [
  {
   "cell_type": "markdown",
   "metadata": {},
   "source": [
    "# 5.1 Re 正则表达式"
   ]
  },
  {
   "cell_type": "markdown",
   "metadata": {},
   "source": [
    "## 5.1.1 re.match方法"
   ]
  },
  {
   "cell_type": "code",
   "execution_count": 3,
   "metadata": {
    "collapsed": false
   },
   "outputs": [
    {
     "name": "stdout",
     "output_type": "stream",
     "text": [
      "匹配的结果:   <_sre.SRE_Match object; span=(0, 3), match='www'>\n",
      "匹配的起始与终点:   (0, 3)\n",
      "匹配的起始位置:   0\n",
      "匹配的终点位置:   3\n"
     ]
    }
   ],
   "source": [
    "import re\n",
    "m = re.match('www', 'www.santostang.com')\n",
    "print (\"匹配的结果:  \", m)    \n",
    "print (\"匹配的起始与终点:  \", m.span()) \n",
    "print (\"匹配的起始位置:  \", m.start())\n",
    "print (\"匹配的终点位置:  \", m.end())"
   ]
  },
  {
   "cell_type": "code",
   "execution_count": 7,
   "metadata": {
    "collapsed": false
   },
   "outputs": [
    {
     "name": "stdout",
     "output_type": "stream",
     "text": [
      "匹配的整句话 Fat cats are smarter than dogs\n",
      "匹配的第一个结果 Fat cats\n",
      "匹配的第二个结果 smarter than\n",
      "匹配的结果列表 ('Fat cats', 'smarter than')\n"
     ]
    }
   ],
   "source": [
    "line = \"Fat cats are smarter than dogs, is it right?\"\n",
    "m = re.match( r'(.*) are (.*?) dogs', line)\n",
    "print ('匹配的整句话', m.group(0))\n",
    "print ('匹配的第一个结果', m.group(1))\n",
    "print ('匹配的第二个结果', m.group(2))\n",
    "print ('匹配的结果列表', m.groups())"
   ]
  },
  {
   "cell_type": "markdown",
   "metadata": {},
   "source": [
    "## 5.1.2 re.search方法"
   ]
  },
  {
   "cell_type": "code",
   "execution_count": 8,
   "metadata": {
    "collapsed": false
   },
   "outputs": [
    {
     "name": "stdout",
     "output_type": "stream",
     "text": [
      "None\n",
      "<_sre.SRE_Match object; span=(15, 18), match='com'>\n"
     ]
    }
   ],
   "source": [
    "import re\n",
    "m_match = re.match('com', 'www.santostang.com')\n",
    "m_search = re.search('com', 'www.santostang.com')\n",
    "print (m_match)\n",
    "print (m_search)"
   ]
  },
  {
   "cell_type": "markdown",
   "metadata": {},
   "source": [
    "## 5.1.3 re.findall 方法"
   ]
  },
  {
   "cell_type": "code",
   "execution_count": 22,
   "metadata": {
    "collapsed": false
   },
   "outputs": [
    {
     "name": "stdout",
     "output_type": "stream",
     "text": [
      "12345\n",
      "12345\n",
      "['12345', '23456']\n"
     ]
    }
   ],
   "source": [
    "import re\n",
    "m_match = re.match('[0-9]+', '12345 is the first number, 23456 is the sencond')\n",
    "m_search = re.search('[0-9]+', 'The first number is 12345, 23456 is the sencond')\n",
    "m_findall = re.findall('[0-9]+', '12345 is the first number, 23456 is the sencond')\n",
    "print (m_match.group())\n",
    "print (m_search.group())\n",
    "print (m_findall)"
   ]
  },
  {
   "cell_type": "code",
   "execution_count": 23,
   "metadata": {
    "collapsed": false
   },
   "outputs": [
    {
     "name": "stdout",
     "output_type": "stream",
     "text": [
      "['Hello Python!', 'echarts学习笔记(2) &#8212; 同一页面多图表', 'echarts学习笔记(1) &#8212; 模块化单文件引入', '【爬虫二】爬虫的框架和基本议题', '【爬虫一】最简单的爬虫，零基础教学', 'Hello world!']\n"
     ]
    }
   ],
   "source": [
    "import requests\n",
    "import re\n",
    "\n",
    "link = \"http://www.santostang.com/\"\n",
    "headers = {'User-Agent' : 'Mozilla/5.0 (Windows; U; Windows NT 6.1; en-US; rv:1.9.1.6) Gecko/20091201 Firefox/3.5.6'} \n",
    "r = requests.get(link, headers= headers)\n",
    "html = r.text\n",
    "\n",
    "title_list = re.findall('<h1 class=\"post-title\"><a href=.*?>(.*?)</a></h1>',html)\n",
    "print (title_list)"
   ]
  },
  {
   "cell_type": "markdown",
   "metadata": {},
   "source": [
    "# 5.2 使用BeautifulSoup解析网页"
   ]
  },
  {
   "cell_type": "markdown",
   "metadata": {},
   "source": [
    "## 5.2.1 BeautifulSoup的安装"
   ]
  },
  {
   "cell_type": "code",
   "execution_count": 1,
   "metadata": {
    "collapsed": false
   },
   "outputs": [
    {
     "name": "stdout",
     "output_type": "stream",
     "text": [
      "Requirement already satisfied: bs4 in c:\\programdata\\anaconda3\\lib\\site-packages\n",
      "Requirement already satisfied: beautifulsoup4 in c:\\programdata\\anaconda3\\lib\\site-packages (from bs4)\n"
     ]
    }
   ],
   "source": [
    "! pip install bs4"
   ]
  },
  {
   "cell_type": "markdown",
   "metadata": {},
   "source": [
    "## 5.2.2 BeautifulSoup获取标题"
   ]
  },
  {
   "cell_type": "code",
   "execution_count": 32,
   "metadata": {
    "collapsed": false
   },
   "outputs": [
    {
     "name": "stdout",
     "output_type": "stream",
     "text": [
      "第一篇文章的标题是： Hello Python!\n",
      "第 1 篇文章的标题是：Hello Python!\n",
      "第 2 篇文章的标题是：echarts学习笔记(2) — 同一页面多图表\n",
      "第 3 篇文章的标题是：echarts学习笔记(1) — 模块化单文件引入\n",
      "第 4 篇文章的标题是：【爬虫二】爬虫的框架和基本议题\n",
      "第 5 篇文章的标题是：【爬虫一】最简单的爬虫，零基础教学\n",
      "第 6 篇文章的标题是：Hello world!\n"
     ]
    }
   ],
   "source": [
    "import requests\n",
    "from bs4 import BeautifulSoup\n",
    "\n",
    "link = \"http://www.santostang.com/\"\n",
    "headers = {'User-Agent' : 'Mozilla/5.0 (Windows; U; Windows NT 6.1; en-US; rv:1.9.1.6) Gecko/20091201 Firefox/3.5.6'} \n",
    "r = requests.get(link, headers= headers)\n",
    "\n",
    "soup = BeautifulSoup(r.text,\"html.parser\")\n",
    "first_title = soup.find(\"h1\", class_=\"post-title\").a.text.strip()\n",
    "print (\"第一篇文章的标题是：\", first_title)\n",
    "\n",
    "title_list = soup.find_all(\"h1\", class_=\"post-title\")\n",
    "for i in range(len(title_list)):\n",
    "    title = title_list[i].a.text.strip()\n",
    "    print ('第 %s 篇文章的标题是：%s' %(i+1, title))"
   ]
  },
  {
   "cell_type": "markdown",
   "metadata": {},
   "source": [
    "## 5.2.3 BeautifulSoup的其他功能"
   ]
  },
  {
   "cell_type": "code",
   "execution_count": 33,
   "metadata": {
    "collapsed": true
   },
   "outputs": [],
   "source": [
    "html = \"\"\"\n",
    "<body>\n",
    "<header id=\"header\">\n",
    "    <h3 id=\"name\">大数据@唐松Santos</h3>\n",
    "  <div class=\"sns\">\n",
    "    <a href=\"http://www.santostang.com/feed/\" target=\"_blank\" rel=\"nofollow\" title=\"RSS\"><i class=\"fa fa-rss\" aria-hidden=\"true\"></i></a>\n",
    "        <a href=\"http://weibo.com/santostang\" target=\"_blank\" rel=\"nofollow\" title=\"Weibo\"><i class=\"fa fa-weibo\" aria-hidden=\"true\"></i></a>\n",
    "                <a href=\"https://www.linkedin.com/in/santostang\" target=\"_blank\" rel=\"nofollow\" title=\"Linkedin\"><i class=\"fa fa-linkedin\" aria-hidden=\"true\"></i></a>\n",
    "                <a href=\"mailto:tangsongsky@gmail.com\" target=\"_blank\" rel=\"nofollow\" title=\"envelope\"><i class=\"fa fa-envelope\" aria-hidden=\"true\"></i></i></a>\n",
    "          </div>\n",
    "  <div class=\"nav\">\n",
    "   <ul><li class=\"current-menu-item\"><a href=\"http://www.santostang.com/\">首页</a></li>\n",
    "<li><a href=\"http://www.santostang.com/about-me/\">关于我</a></li>\n",
    "<li><a href=\"http://www.santostang.com/post-search/\">文章搜索</a></li>\n",
    "<li><a href=\"http://www.santostang.com/wp-login.php\">登录</a></li>\n",
    "</ul>  </div>\n",
    "</header>\n",
    "\"\"\""
   ]
  },
  {
   "cell_type": "code",
   "execution_count": 35,
   "metadata": {
    "collapsed": false
   },
   "outputs": [],
   "source": [
    "soup = BeautifulSoup(html, \"html.parser\")"
   ]
  },
  {
   "cell_type": "code",
   "execution_count": 36,
   "metadata": {
    "collapsed": true
   },
   "outputs": [
    {
     "name": "stdout",
     "output_type": "stream",
     "text": [
      "<body>\n",
      " <header id=\"header\">\n",
      "  <h3 id=\"name\">\n",
      "   大数据@唐松Santos\n",
      "  </h3>\n",
      "  <div class=\"sns\">\n",
      "   <a href=\"http://www.santostang.com/feed/\" rel=\"nofollow\" target=\"_blank\" title=\"RSS\">\n",
      "    <i aria-hidden=\"true\" class=\"fa fa-rss\">\n",
      "    </i>\n",
      "   </a>\n",
      "   <a href=\"http://weibo.com/santostang\" rel=\"nofollow\" target=\"_blank\" title=\"Weibo\">\n",
      "    <i aria-hidden=\"true\" class=\"fa fa-weibo\">\n",
      "    </i>\n",
      "   </a>\n",
      "   <a href=\"https://www.linkedin.com/in/santostang\" rel=\"nofollow\" target=\"_blank\" title=\"Linkedin\">\n",
      "    <i aria-hidden=\"true\" class=\"fa fa-linkedin\">\n",
      "    </i>\n",
      "   </a>\n",
      "   <a href=\"mailto:tangsongsky@gmail.com\" rel=\"nofollow\" target=\"_blank\" title=\"envelope\">\n",
      "    <i aria-hidden=\"true\" class=\"fa fa-envelope\">\n",
      "    </i>\n",
      "   </a>\n",
      "  </div>\n",
      " </header>\n",
      "</body>\n",
      "<div class=\"nav\">\n",
      " <ul>\n",
      "  <li class=\"current-menu-item\">\n",
      "   <a href=\"http://www.santostang.com/\">\n",
      "    首页\n",
      "   </a>\n",
      "  </li>\n",
      "  <li>\n",
      "   <a href=\"http://www.santostang.com/about-me/\">\n",
      "    关于我\n",
      "   </a>\n",
      "  </li>\n",
      "  <li>\n",
      "   <a href=\"http://www.santostang.com/post-search/\">\n",
      "    文章搜索\n",
      "   </a>\n",
      "  </li>\n",
      "  <li>\n",
      "   <a href=\"http://www.santostang.com/wp-login.php\">\n",
      "    登录\n",
      "   </a>\n",
      "  </li>\n",
      " </ul>\n",
      "</div>\n",
      "\n"
     ]
    }
   ],
   "source": [
    "print (soup.prettify())"
   ]
  },
  {
   "cell_type": "code",
   "execution_count": 37,
   "metadata": {
    "collapsed": false
   },
   "outputs": [
    {
     "data": {
      "text/plain": [
       "<h3 id=\"name\">大数据@唐松Santos</h3>"
      ]
     },
     "execution_count": 37,
     "metadata": {},
     "output_type": "execute_result"
    }
   ],
   "source": [
    "soup.header.h3"
   ]
  },
  {
   "cell_type": "code",
   "execution_count": 39,
   "metadata": {
    "collapsed": true
   },
   "outputs": [
    {
     "data": {
      "text/plain": [
       "['\\n',\n",
       " <a href=\"http://www.santostang.com/feed/\" rel=\"nofollow\" target=\"_blank\" title=\"RSS\"><i aria-hidden=\"true\" class=\"fa fa-rss\"></i></a>,\n",
       " '\\n',\n",
       " <a href=\"http://weibo.com/santostang\" rel=\"nofollow\" target=\"_blank\" title=\"Weibo\"><i aria-hidden=\"true\" class=\"fa fa-weibo\"></i></a>,\n",
       " '\\n',\n",
       " <a href=\"https://www.linkedin.com/in/santostang\" rel=\"nofollow\" target=\"_blank\" title=\"Linkedin\"><i aria-hidden=\"true\" class=\"fa fa-linkedin\"></i></a>,\n",
       " '\\n',\n",
       " <a href=\"mailto:tangsongsky@gmail.com\" rel=\"nofollow\" target=\"_blank\" title=\"envelope\"><i aria-hidden=\"true\" class=\"fa fa-envelope\"></i></a>]"
      ]
     },
     "execution_count": 39,
     "metadata": {},
     "output_type": "execute_result"
    }
   ],
   "source": [
    "soup.header.div.contents"
   ]
  },
  {
   "cell_type": "code",
   "execution_count": 43,
   "metadata": {
    "collapsed": false
   },
   "outputs": [
    {
     "data": {
      "text/plain": [
       "<a href=\"http://www.santostang.com/feed/\" rel=\"nofollow\" target=\"_blank\" title=\"RSS\"><i aria-hidden=\"true\" class=\"fa fa-rss\"></i></a>"
      ]
     },
     "execution_count": 43,
     "metadata": {},
     "output_type": "execute_result"
    }
   ],
   "source": [
    "soup.header.div.contents[1]"
   ]
  },
  {
   "cell_type": "code",
   "execution_count": 61,
   "metadata": {
    "collapsed": true
   },
   "outputs": [
    {
     "name": "stdout",
     "output_type": "stream",
     "text": [
      "\n",
      "\n",
      "<a href=\"http://www.santostang.com/feed/\" rel=\"nofollow\" target=\"_blank\" title=\"RSS\"><i aria-hidden=\"true\" class=\"fa fa-rss\"></i></a>\n",
      "\n",
      "\n",
      "<a href=\"http://weibo.com/santostang\" rel=\"nofollow\" target=\"_blank\" title=\"Weibo\"><i aria-hidden=\"true\" class=\"fa fa-weibo\"></i></a>\n",
      "\n",
      "\n",
      "<a href=\"https://www.linkedin.com/in/santostang\" rel=\"nofollow\" target=\"_blank\" title=\"Linkedin\"><i aria-hidden=\"true\" class=\"fa fa-linkedin\"></i></a>\n",
      "\n",
      "\n",
      "<a href=\"mailto:tangsongsky@gmail.com\" rel=\"nofollow\" target=\"_blank\" title=\"envelope\"><i aria-hidden=\"true\" class=\"fa fa-envelope\"></i></a>\n"
     ]
    }
   ],
   "source": [
    "for child in soup.header.div.children:\n",
    "    print (child)"
   ]
  },
  {
   "cell_type": "code",
   "execution_count": 62,
   "metadata": {
    "collapsed": true
   },
   "outputs": [
    {
     "name": "stdout",
     "output_type": "stream",
     "text": [
      "\n",
      "\n",
      "<a href=\"http://www.santostang.com/feed/\" rel=\"nofollow\" target=\"_blank\" title=\"RSS\"><i aria-hidden=\"true\" class=\"fa fa-rss\"></i></a>\n",
      "<i aria-hidden=\"true\" class=\"fa fa-rss\"></i>\n",
      "\n",
      "\n",
      "<a href=\"http://weibo.com/santostang\" rel=\"nofollow\" target=\"_blank\" title=\"Weibo\"><i aria-hidden=\"true\" class=\"fa fa-weibo\"></i></a>\n",
      "<i aria-hidden=\"true\" class=\"fa fa-weibo\"></i>\n",
      "\n",
      "\n",
      "<a href=\"https://www.linkedin.com/in/santostang\" rel=\"nofollow\" target=\"_blank\" title=\"Linkedin\"><i aria-hidden=\"true\" class=\"fa fa-linkedin\"></i></a>\n",
      "<i aria-hidden=\"true\" class=\"fa fa-linkedin\"></i>\n",
      "\n",
      "\n",
      "<a href=\"mailto:tangsongsky@gmail.com\" rel=\"nofollow\" target=\"_blank\" title=\"envelope\"><i aria-hidden=\"true\" class=\"fa fa-envelope\"></i></a>\n",
      "<i aria-hidden=\"true\" class=\"fa fa-envelope\"></i>\n"
     ]
    }
   ],
   "source": [
    "for child in soup.header.div.descendants:\n",
    "    print(child)"
   ]
  },
  {
   "cell_type": "code",
   "execution_count": 66,
   "metadata": {
    "collapsed": true
   },
   "outputs": [
    {
     "data": {
      "text/plain": [
       "<div class=\"sns\">\n",
       "<a href=\"http://www.santostang.com/feed/\" rel=\"nofollow\" target=\"_blank\" title=\"RSS\"><i aria-hidden=\"true\" class=\"fa fa-rss\"></i></a>\n",
       "<a href=\"http://weibo.com/santostang\" rel=\"nofollow\" target=\"_blank\" title=\"Weibo\"><i aria-hidden=\"true\" class=\"fa fa-weibo\"></i></a>\n",
       "<a href=\"https://www.linkedin.com/in/santostang\" rel=\"nofollow\" target=\"_blank\" title=\"Linkedin\"><i aria-hidden=\"true\" class=\"fa fa-linkedin\"></i></a>\n",
       "<a href=\"mailto:tangsongsky@gmail.com\" rel=\"nofollow\" target=\"_blank\" title=\"envelope\"><i aria-hidden=\"true\" class=\"fa fa-envelope\"></i></a></div>"
      ]
     },
     "execution_count": 66,
     "metadata": {},
     "output_type": "execute_result"
    }
   ],
   "source": [
    "a_tag = soup.header.div.a\n",
    "a_tag.parent"
   ]
  },
  {
   "cell_type": "code",
   "execution_count": 67,
   "metadata": {
    "collapsed": false
   },
   "outputs": [
    {
     "data": {
      "text/plain": [
       "[<div class=\"sns\">\n",
       " <a href=\"http://www.santostang.com/feed/\" rel=\"nofollow\" target=\"_blank\" title=\"RSS\"><i aria-hidden=\"true\" class=\"fa fa-rss\"></i></a>\n",
       " <a href=\"http://weibo.com/santostang\" rel=\"nofollow\" target=\"_blank\" title=\"Weibo\"><i aria-hidden=\"true\" class=\"fa fa-weibo\"></i></a>\n",
       " <a href=\"https://www.linkedin.com/in/santostang\" rel=\"nofollow\" target=\"_blank\" title=\"Linkedin\"><i aria-hidden=\"true\" class=\"fa fa-linkedin\"></i></a>\n",
       " <a href=\"mailto:tangsongsky@gmail.com\" rel=\"nofollow\" target=\"_blank\" title=\"envelope\"><i aria-hidden=\"true\" class=\"fa fa-envelope\"></i></a></div>]"
      ]
     },
     "execution_count": 67,
     "metadata": {},
     "output_type": "execute_result"
    }
   ],
   "source": [
    "soup.find_all('div', class_='sns')"
   ]
  },
  {
   "cell_type": "code",
   "execution_count": 68,
   "metadata": {
    "collapsed": false
   },
   "outputs": [
    {
     "name": "stdout",
     "output_type": "stream",
     "text": [
      "header\n",
      "h3\n"
     ]
    }
   ],
   "source": [
    "for tag in soup.find_all(re.compile(\"^h\")):\n",
    "        print(tag.name)"
   ]
  },
  {
   "cell_type": "code",
   "execution_count": 69,
   "metadata": {
    "collapsed": false
   },
   "outputs": [
    {
     "data": {
      "text/plain": [
       "[<h3 id=\"name\">大数据@唐松Santos</h3>]"
      ]
     },
     "execution_count": 69,
     "metadata": {},
     "output_type": "execute_result"
    }
   ],
   "source": [
    "soup.select(\"header h3\")"
   ]
  },
  {
   "cell_type": "code",
   "execution_count": 73,
   "metadata": {
    "collapsed": false
   },
   "outputs": [
    {
     "name": "stdout",
     "output_type": "stream",
     "text": [
      "[<h3 id=\"name\">大数据@唐松Santos</h3>]\n",
      "[<a href=\"http://www.santostang.com/feed/\" rel=\"nofollow\" target=\"_blank\" title=\"RSS\"><i aria-hidden=\"true\" class=\"fa fa-rss\"></i></a>, <a href=\"http://weibo.com/santostang\" rel=\"nofollow\" target=\"_blank\" title=\"Weibo\"><i aria-hidden=\"true\" class=\"fa fa-weibo\"></i></a>, <a href=\"https://www.linkedin.com/in/santostang\" rel=\"nofollow\" target=\"_blank\" title=\"Linkedin\"><i aria-hidden=\"true\" class=\"fa fa-linkedin\"></i></a>, <a href=\"mailto:tangsongsky@gmail.com\" rel=\"nofollow\" target=\"_blank\" title=\"envelope\"><i aria-hidden=\"true\" class=\"fa fa-envelope\"></i></a>]\n"
     ]
    }
   ],
   "source": [
    "print (soup.select(\"header > h3\"))\n",
    "print (soup.select(\"div > a\"))"
   ]
  },
  {
   "cell_type": "code",
   "execution_count": 77,
   "metadata": {
    "collapsed": false
   },
   "outputs": [
    {
     "data": {
      "text/plain": [
       "[<a href=\"http://www.santostang.com/feed/\" rel=\"nofollow\" target=\"_blank\" title=\"RSS\"><i aria-hidden=\"true\" class=\"fa fa-rss\"></i></a>,\n",
       " <a href=\"http://www.santostang.com/\">首页</a>,\n",
       " <a href=\"http://www.santostang.com/about-me/\">关于我</a>,\n",
       " <a href=\"http://www.santostang.com/post-search/\">文章搜索</a>,\n",
       " <a href=\"http://www.santostang.com/wp-login.php\">登录</a>]"
      ]
     },
     "execution_count": 77,
     "metadata": {},
     "output_type": "execute_result"
    }
   ],
   "source": [
    "soup.select('a[href^=\"http://www.santostang.com/\"]')"
   ]
  },
  {
   "cell_type": "markdown",
   "metadata": {
    "collapsed": true
   },
   "source": [
    "# 5.3 使用lxml解析网页"
   ]
  },
  {
   "cell_type": "markdown",
   "metadata": {},
   "source": [
    "## 5.3.1 lxml的安装"
   ]
  },
  {
   "cell_type": "code",
   "execution_count": 3,
   "metadata": {
    "collapsed": false
   },
   "outputs": [
    {
     "name": "stdout",
     "output_type": "stream",
     "text": [
      "Requirement already satisfied: lxml in c:\\programdata\\anaconda3\\lib\\site-packages\n"
     ]
    }
   ],
   "source": [
    "# install lxml\n",
    "! pip install lxml"
   ]
  },
  {
   "cell_type": "markdown",
   "metadata": {},
   "source": [
    "## 5.3.2 lxml获取博客标题"
   ]
  },
  {
   "cell_type": "code",
   "execution_count": 4,
   "metadata": {
    "collapsed": false
   },
   "outputs": [
    {
     "name": "stdout",
     "output_type": "stream",
     "text": [
      "['Hello Python!', 'echarts学习笔记(2) — 同一页面多图表', 'echarts学习笔记(1) — 模块化单文件引入', '【爬虫二】爬虫的框架和基本议题', '【爬虫一】最简单的爬虫，零基础教学', 'Hello world!']\n"
     ]
    }
   ],
   "source": [
    "import requests\n",
    "from lxml import etree\n",
    "\n",
    "link = \"http://www.santostang.com/\"\n",
    "headers = {'User-Agent' : 'Mozilla/5.0 (Windows; U; Windows NT 6.1; en-US; rv:1.9.1.6) Gecko/20091201 Firefox/3.5.6'} \n",
    "r = requests.get(link, headers= headers)\n",
    "\n",
    "html = etree.HTML(r.text)\n",
    "title_list = html.xpath('//h1[@class=\"post-title\"]/a/text()')\n",
    "print (title_list)"
   ]
  },
  {
   "cell_type": "code",
   "execution_count": null,
   "metadata": {
    "collapsed": true
   },
   "outputs": [],
   "source": []
  }
 ],
 "metadata": {
  "kernelspec": {
   "display_name": "Python 3",
   "language": "python",
   "name": "python3"
  },
  "language_info": {
   "codemirror_mode": {
    "name": "ipython",
    "version": 3
   },
   "file_extension": ".py",
   "mimetype": "text/x-python",
   "name": "python",
   "nbconvert_exporter": "python",
   "pygments_lexer": "ipython3",
   "version": "3.6.0"
  }
 },
 "nbformat": 4,
 "nbformat_minor": 0
}
